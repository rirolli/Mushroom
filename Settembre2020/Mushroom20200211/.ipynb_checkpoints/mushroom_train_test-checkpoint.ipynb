{
 "cells": [
  {
   "cell_type": "markdown",
   "metadata": {},
   "source": [
    "# Train e Test del dataset Mushroom"
   ]
  },
  {
   "cell_type": "markdown",
   "metadata": {},
   "source": [
    "## Import delle librerie"
   ]
  },
  {
   "cell_type": "code",
   "execution_count": 78,
   "metadata": {},
   "outputs": [],
   "source": [
    "import pandas as pd\n",
    "import numpy as np\n",
    "import sklearn as sl\n",
    "import seaborn as sns\n",
    "import matplotlib.pyplot as plt\n",
    "\n",
    "from sklearn.metrics import confusion_matrix, plot_confusion_matrix, accuracy_score\n",
    "from sklearn.preprocessing import LabelEncoder\n",
    "from sklearn.pipeline import Pipeline\n",
    "from sklearn.compose import ColumnTransformer\n",
    "from sklearn.impute import SimpleImputer\n",
    "from sklearn.ensemble import RandomForestClassifier\n"
   ]
  },
  {
   "cell_type": "markdown",
   "metadata": {},
   "source": [
    "## Caricamento dei dataset"
   ]
  },
  {
   "cell_type": "markdown",
   "metadata": {},
   "source": [
    "Ora si procede con il caricamento dei dataset."
   ]
  },
  {
   "cell_type": "code",
   "execution_count": 37,
   "metadata": {},
   "outputs": [],
   "source": [
    "url_train = 'train.csv'\n",
    "url_val = 'validation.csv'\n",
    "url_test = 'test.csv'"
   ]
  },
  {
   "cell_type": "code",
   "execution_count": 38,
   "metadata": {},
   "outputs": [],
   "source": [
    "train_data = pd.read_csv(url_train)\n",
    "val_data = pd.read_csv(url_val)\n",
    "test_data =pd.read_csv(url_test)"
   ]
  },
  {
   "cell_type": "markdown",
   "metadata": {},
   "source": [
    "Verifichiamo che siano stati importati correttamente"
   ]
  },
  {
   "cell_type": "code",
   "execution_count": 39,
   "metadata": {},
   "outputs": [],
   "source": [
    "if train_data is None or val_data is None or test_data is None:\n",
    "    raise(\"I dataset non sono stati caricati correttamente.\")"
   ]
  },
  {
   "cell_type": "markdown",
   "metadata": {},
   "source": [
    "## Analisi del dataset di train"
   ]
  },
  {
   "cell_type": "markdown",
   "metadata": {},
   "source": [
    "Ora analizziamo il dataset di train per avere maggiori informazioni per addestrare il modello."
   ]
  },
  {
   "cell_type": "code",
   "execution_count": 40,
   "metadata": {},
   "outputs": [
    {
     "name": "stdout",
     "output_type": "stream",
     "text": [
      "Shape: (5199, 23)\n",
      "Numero di righe (funghi): 5199\n",
      "Numero di colonne: 23\n"
     ]
    }
   ],
   "source": [
    "# Numero di righe e colonne nel dataset\n",
    "print(f\"Shape: {train_data.shape}\")\n",
    "print(f\"Numero di righe (funghi): {train_data.shape[0]}\")\n",
    "print(f\"Numero di colonne: {train_data.shape[1]}\")"
   ]
  },
  {
   "cell_type": "markdown",
   "metadata": {},
   "source": [
    "Osserviamo il tipo di ogni colonna:"
   ]
  },
  {
   "cell_type": "code",
   "execution_count": 41,
   "metadata": {},
   "outputs": [
    {
     "data": {
      "text/plain": [
       "class_edible                object\n",
       "cap-shape                   object\n",
       "cap-surface                 object\n",
       "cap-color                   object\n",
       "bruises                     object\n",
       "odor                        object\n",
       "gill-attachment             object\n",
       "gill-spacing                object\n",
       "gill-size                   object\n",
       "gill-color                  object\n",
       "stalk-shape                 object\n",
       "stalk-root                  object\n",
       "stalk-surface-above-ring    object\n",
       "stalk-surface-below-ring    object\n",
       "stalk-color-above-ring      object\n",
       "stalk-color-below-ring      object\n",
       "veil-type                   object\n",
       "veil-color                  object\n",
       "ring-number                 object\n",
       "ring-type                   object\n",
       "spore-print-color           object\n",
       "population                  object\n",
       "habitat                     object\n",
       "dtype: object"
      ]
     },
     "execution_count": 41,
     "metadata": {},
     "output_type": "execute_result"
    }
   ],
   "source": [
    "train_data.dtypes"
   ]
  },
  {
   "cell_type": "markdown",
   "metadata": {},
   "source": [
    "Stampa dei valori unici di ogni colonna:"
   ]
  },
  {
   "cell_type": "code",
   "execution_count": 42,
   "metadata": {},
   "outputs": [
    {
     "name": "stdout",
     "output_type": "stream",
     "text": [
      "class_edible :  ['e' 'p']\n",
      "\n",
      "cap-shape :  ['b' 'c' 'f' 'k' 's' 'x']\n",
      "\n",
      "cap-surface :  ['f' 'g' 's' 'y']\n",
      "\n",
      "cap-color :  ['b' 'c' 'e' 'g' 'n' 'p' 'r' 'u' 'w' 'y']\n",
      "\n",
      "bruises :  ['f' 't']\n",
      "\n",
      "odor :  ['a' 'c' 'f' 'l' 'm' 'n' 'p' 's' 'y']\n",
      "\n",
      "gill-attachment :  ['a' 'f']\n",
      "\n",
      "gill-spacing :  ['c' 'w']\n",
      "\n",
      "gill-size :  ['b' 'n']\n",
      "\n",
      "gill-color :  ['b' 'e' 'g' 'h' 'k' 'n' 'o' 'p' 'r' 'u' 'w' 'y']\n",
      "\n",
      "stalk-shape :  ['e' 't']\n",
      "\n",
      "stalk-root :  ['?' 'b' 'c' 'e' 'r']\n",
      "\n",
      "stalk-surface-above-ring :  ['f' 'k' 's' 'y']\n",
      "\n",
      "stalk-surface-below-ring :  ['f' 'k' 's' 'y']\n",
      "\n",
      "stalk-color-above-ring :  ['b' 'c' 'e' 'g' 'n' 'o' 'p' 'w' 'y']\n",
      "\n",
      "stalk-color-below-ring :  ['b' 'c' 'e' 'g' 'n' 'o' 'p' 'w' 'y']\n",
      "\n",
      "veil-type :  ['p']\n",
      "\n",
      "veil-color :  ['n' 'o' 'w' 'y']\n",
      "\n",
      "ring-number :  ['n' 'o' 't']\n",
      "\n",
      "ring-type :  ['e' 'f' 'l' 'n' 'p']\n",
      "\n",
      "spore-print-color :  ['b' 'h' 'k' 'n' 'o' 'r' 'u' 'w' 'y']\n",
      "\n",
      "population :  ['a' 'c' 'n' 's' 'v' 'y']\n",
      "\n",
      "habitat :  ['d' 'g' 'l' 'm' 'p' 'u' 'w']\n",
      "\n"
     ]
    }
   ],
   "source": [
    "# Stampa di tutti i valori unici di ogni colonna\n",
    "for val in train_data:\n",
    "    print(val, ': ', np.sort(train_data[val].unique()))\n",
    "    print()"
   ]
  },
  {
   "cell_type": "markdown",
   "metadata": {},
   "source": [
    "Stampa delle ricorrenze di ogni valore contenuto nelle colonne:"
   ]
  },
  {
   "cell_type": "code",
   "execution_count": 43,
   "metadata": {},
   "outputs": [
    {
     "name": "stdout",
     "output_type": "stream",
     "text": [
      "e    2739\n",
      "p    2460\n",
      "Name: class_edible, dtype: int64\n",
      "\n",
      "x    2312\n",
      "f    2007\n",
      "k     559\n",
      "b     299\n",
      "s      20\n",
      "c       2\n",
      "Name: cap-shape, dtype: int64\n",
      "\n",
      "y    2030\n",
      "s    1669\n",
      "f    1498\n",
      "g       2\n",
      "Name: cap-surface, dtype: int64\n",
      "\n",
      "n    1459\n",
      "g    1176\n",
      "e     990\n",
      "y     670\n",
      "w     656\n",
      "b     104\n",
      "p      86\n",
      "c      35\n",
      "u      12\n",
      "r      11\n",
      "Name: cap-color, dtype: int64\n",
      "\n",
      "f    3042\n",
      "t    2157\n",
      "Name: bruises, dtype: int64\n",
      "\n",
      "n    2305\n",
      "f    1346\n",
      "y     381\n",
      "s     362\n",
      "l     254\n",
      "a     253\n",
      "p     154\n",
      "c     119\n",
      "m      25\n",
      "Name: odor, dtype: int64\n",
      "\n",
      "f    5057\n",
      "a     142\n",
      "Name: gill-attachment, dtype: int64\n",
      "\n",
      "c    4334\n",
      "w     865\n",
      "Name: gill-spacing, dtype: int64\n",
      "\n",
      "b    3601\n",
      "n    1598\n",
      "Name: gill-size, dtype: int64\n",
      "\n",
      "b    1112\n",
      "p     960\n",
      "w     776\n",
      "n     681\n",
      "h     466\n",
      "g     460\n",
      "u     318\n",
      "k     257\n",
      "y      59\n",
      "e      56\n",
      "o      37\n",
      "r      17\n",
      "Name: gill-color, dtype: int64\n",
      "\n",
      "t    2984\n",
      "e    2215\n",
      "Name: stalk-shape, dtype: int64\n",
      "\n",
      "b    2406\n",
      "?    1612\n",
      "e     708\n",
      "c     353\n",
      "r     120\n",
      "Name: stalk-root, dtype: int64\n",
      "\n",
      "s    3338\n",
      "k    1486\n",
      "f     361\n",
      "y      14\n",
      "Name: stalk-surface-above-ring, dtype: int64\n",
      "\n",
      "s    3175\n",
      "k    1438\n",
      "f     407\n",
      "y     179\n",
      "Name: stalk-surface-below-ring, dtype: int64\n",
      "\n",
      "w    2857\n",
      "p    1193\n",
      "g     376\n",
      "n     281\n",
      "b     263\n",
      "o     131\n",
      "e      68\n",
      "c      25\n",
      "y       5\n",
      "Name: stalk-color-above-ring, dtype: int64\n",
      "\n",
      "w    2792\n",
      "p    1218\n",
      "g     378\n",
      "n     319\n",
      "b     266\n",
      "o     131\n",
      "e      56\n",
      "c      25\n",
      "y      14\n",
      "Name: stalk-color-below-ring, dtype: int64\n",
      "\n",
      "p    5199\n",
      "Name: veil-type, dtype: int64\n",
      "\n",
      "w    5063\n",
      "o      70\n",
      "n      61\n",
      "y       5\n",
      "Name: veil-color, dtype: int64\n",
      "\n",
      "o    4782\n",
      "t     392\n",
      "n      25\n",
      "Name: ring-number, dtype: int64\n",
      "\n",
      "p    2545\n",
      "e    1795\n",
      "l     802\n",
      "f      32\n",
      "n      25\n",
      "Name: ring-type, dtype: int64\n",
      "\n",
      "w    1550\n",
      "n    1256\n",
      "k    1213\n",
      "h    1009\n",
      "r      44\n",
      "y      35\n",
      "u      33\n",
      "b      30\n",
      "o      29\n",
      "Name: spore-print-color, dtype: int64\n",
      "\n",
      "v    2586\n",
      "y    1080\n",
      "s     807\n",
      "n     260\n",
      "a     248\n",
      "c     218\n",
      "Name: population, dtype: int64\n",
      "\n",
      "d    2044\n",
      "g    1364\n",
      "p     735\n",
      "l     535\n",
      "u     209\n",
      "m     192\n",
      "w     120\n",
      "Name: habitat, dtype: int64\n",
      "\n"
     ]
    }
   ],
   "source": [
    "# Stampa del conto dei valori presenti in ogni colonna\n",
    "for val in train_data:\n",
    "    print(train_data[val].value_counts())\n",
    "    print()"
   ]
  },
  {
   "cell_type": "markdown",
   "metadata": {},
   "source": [
    "## Rimozione delle righe con valori nulli"
   ]
  },
  {
   "cell_type": "markdown",
   "metadata": {},
   "source": [
    "Procediamo ora con il cercare se ci sono righe nulle sia sul dataset di train che su quello di test. Tali righe saranno considerate non valide e dovranno, pertanto, essere rimosse dal dataset per evitare possibili errori durante l'addestramento.\n",
    "I simboli che in genere vengono utilizzati per intendere le righe nulle sono: \"\", \" \", \"?\", \"nan\", \"na\", \"NaN\"."
   ]
  },
  {
   "cell_type": "markdown",
   "metadata": {},
   "source": [
    "Come prima operazione ceschiamo di trovare i valori nulli nei vari dataset:"
   ]
  },
  {
   "cell_type": "code",
   "execution_count": 44,
   "metadata": {},
   "outputs": [],
   "source": [
    "# Sostituisco ad ogni stringa vuola il valore 'NaN' nel dataset di train\n",
    "train_data.replace(\"\", np.nan, inplace=True)\n",
    "train_data.replace(\" \", np.nan, inplace=True)\n",
    "train_data.replace(\"?\", np.nan, inplace=True)\n",
    "train_data.replace(\"nan\", np.nan, inplace=True)\n",
    "train_data.replace(\"na\", np.nan, inplace=True)\n",
    "train_data.replace(\"NaN\", np.nan, inplace=True)\n",
    "\n",
    "# Sostituisco ad ogni stringa vuola il valore 'NaN' nel dataset di train\n",
    "val_data.replace(\"\", np.nan, inplace=True)\n",
    "val_data.replace(\" \", np.nan, inplace=True)\n",
    "val_data.replace(\"?\", np.nan, inplace=True)\n",
    "val_data.replace(\"nan\", np.nan, inplace=True)\n",
    "val_data.replace(\"na\", np.nan, inplace=True)\n",
    "val_data.replace(\"NaN\", np.nan, inplace=True)\n",
    "\n",
    "# Sostituisco ad ogni stringa vuola il valore 'NaN' nel dataset di test\n",
    "test_data.replace(\"\", np.nan, inplace=True)\n",
    "test_data.replace(\" \", np.nan, inplace=True)\n",
    "test_data.replace(\"?\", np.nan, inplace=True)\n",
    "test_data.replace(\"nan\", np.nan, inplace=True)\n",
    "test_data.replace(\"na\", np.nan, inplace=True)\n",
    "test_data.replace(\"NaN\", np.nan, inplace=True)"
   ]
  },
  {
   "cell_type": "code",
   "execution_count": 45,
   "metadata": {
    "scrolled": true
   },
   "outputs": [
    {
     "data": {
      "text/plain": [
       "class_edible                   0\n",
       "cap-shape                      0\n",
       "cap-surface                    0\n",
       "cap-color                      0\n",
       "bruises                        0\n",
       "odor                           0\n",
       "gill-attachment                0\n",
       "gill-spacing                   0\n",
       "gill-size                      0\n",
       "gill-color                     0\n",
       "stalk-shape                    0\n",
       "stalk-root                  1612\n",
       "stalk-surface-above-ring       0\n",
       "stalk-surface-below-ring       0\n",
       "stalk-color-above-ring         0\n",
       "stalk-color-below-ring         0\n",
       "veil-type                      0\n",
       "veil-color                     0\n",
       "ring-number                    0\n",
       "ring-type                      0\n",
       "spore-print-color              0\n",
       "population                     0\n",
       "habitat                        0\n",
       "dtype: int64"
      ]
     },
     "execution_count": 45,
     "metadata": {},
     "output_type": "execute_result"
    }
   ],
   "source": [
    "# Controllo dei dati non validi (NaN) nel dataset di train\n",
    "train_data.isna().sum()"
   ]
  },
  {
   "cell_type": "code",
   "execution_count": 46,
   "metadata": {
    "scrolled": true
   },
   "outputs": [
    {
     "data": {
      "text/plain": [
       "class_edible                   0\n",
       "cap-shape                      0\n",
       "cap-surface                    0\n",
       "cap-color                      0\n",
       "bruises                        0\n",
       "odor                           0\n",
       "gill-attachment                0\n",
       "gill-spacing                   0\n",
       "gill-size                      0\n",
       "gill-color                     0\n",
       "stalk-shape                    0\n",
       "stalk-root                  1612\n",
       "stalk-surface-above-ring       0\n",
       "stalk-surface-below-ring       0\n",
       "stalk-color-above-ring         0\n",
       "stalk-color-below-ring         0\n",
       "veil-type                      0\n",
       "veil-color                     0\n",
       "ring-number                    0\n",
       "ring-type                      0\n",
       "spore-print-color              0\n",
       "population                     0\n",
       "habitat                        0\n",
       "dtype: int64"
      ]
     },
     "execution_count": 46,
     "metadata": {},
     "output_type": "execute_result"
    }
   ],
   "source": [
    "# Controllo dei dati non validi (NaN) nel dataset di validation\n",
    "train_data.isna().sum()"
   ]
  },
  {
   "cell_type": "code",
   "execution_count": 47,
   "metadata": {
    "scrolled": true
   },
   "outputs": [
    {
     "data": {
      "text/plain": [
       "class_edible                  0\n",
       "cap-shape                     0\n",
       "cap-surface                   0\n",
       "cap-color                     0\n",
       "bruises                       0\n",
       "odor                          0\n",
       "gill-attachment               0\n",
       "gill-spacing                  0\n",
       "gill-size                     0\n",
       "gill-color                    0\n",
       "stalk-shape                   0\n",
       "stalk-root                  475\n",
       "stalk-surface-above-ring      0\n",
       "stalk-surface-below-ring      0\n",
       "stalk-color-above-ring        0\n",
       "stalk-color-below-ring        0\n",
       "veil-type                     0\n",
       "veil-color                    0\n",
       "ring-number                   0\n",
       "ring-type                     0\n",
       "spore-print-color             0\n",
       "population                    0\n",
       "habitat                       0\n",
       "dtype: int64"
      ]
     },
     "execution_count": 47,
     "metadata": {},
     "output_type": "execute_result"
    }
   ],
   "source": [
    "# Controllo dei dati non validi (NaN) nel dataset di test\n",
    "test_data.isna().sum()"
   ]
  },
  {
   "cell_type": "markdown",
   "metadata": {},
   "source": [
    "Adesso procediamo con la rimozione di quesi valori:"
   ]
  },
  {
   "cell_type": "code",
   "execution_count": 48,
   "metadata": {},
   "outputs": [],
   "source": [
    "# Procediamo con l'eliminazione dei dati non validi (NaN)\n",
    "test_data.dropna(inplace=True)\n",
    "val_data.dropna(inplace=True)\n",
    "train_data.dropna(inplace=True)"
   ]
  },
  {
   "cell_type": "markdown",
   "metadata": {},
   "source": [
    "Controlliamo ora se questi valori sono stati rimossi:"
   ]
  },
  {
   "cell_type": "code",
   "execution_count": 49,
   "metadata": {},
   "outputs": [
    {
     "data": {
      "text/plain": [
       "class_edible                0\n",
       "cap-shape                   0\n",
       "cap-surface                 0\n",
       "cap-color                   0\n",
       "bruises                     0\n",
       "odor                        0\n",
       "gill-attachment             0\n",
       "gill-spacing                0\n",
       "gill-size                   0\n",
       "gill-color                  0\n",
       "stalk-shape                 0\n",
       "stalk-root                  0\n",
       "stalk-surface-above-ring    0\n",
       "stalk-surface-below-ring    0\n",
       "stalk-color-above-ring      0\n",
       "stalk-color-below-ring      0\n",
       "veil-type                   0\n",
       "veil-color                  0\n",
       "ring-number                 0\n",
       "ring-type                   0\n",
       "spore-print-color           0\n",
       "population                  0\n",
       "habitat                     0\n",
       "dtype: int64"
      ]
     },
     "execution_count": 49,
     "metadata": {},
     "output_type": "execute_result"
    }
   ],
   "source": [
    "# Controllo dei dati non validi (NaN) nel dataset di train\n",
    "train_data.isna().sum()"
   ]
  },
  {
   "cell_type": "code",
   "execution_count": 50,
   "metadata": {},
   "outputs": [
    {
     "data": {
      "text/plain": [
       "class_edible                0\n",
       "cap-shape                   0\n",
       "cap-surface                 0\n",
       "cap-color                   0\n",
       "bruises                     0\n",
       "odor                        0\n",
       "gill-attachment             0\n",
       "gill-spacing                0\n",
       "gill-size                   0\n",
       "gill-color                  0\n",
       "stalk-shape                 0\n",
       "stalk-root                  0\n",
       "stalk-surface-above-ring    0\n",
       "stalk-surface-below-ring    0\n",
       "stalk-color-above-ring      0\n",
       "stalk-color-below-ring      0\n",
       "veil-type                   0\n",
       "veil-color                  0\n",
       "ring-number                 0\n",
       "ring-type                   0\n",
       "spore-print-color           0\n",
       "population                  0\n",
       "habitat                     0\n",
       "dtype: int64"
      ]
     },
     "execution_count": 50,
     "metadata": {},
     "output_type": "execute_result"
    }
   ],
   "source": [
    "# Controllo dei dati non validi (NaN) nel dataset di validation\n",
    "train_data.isna().sum()"
   ]
  },
  {
   "cell_type": "code",
   "execution_count": 51,
   "metadata": {},
   "outputs": [
    {
     "data": {
      "text/plain": [
       "class_edible                0\n",
       "cap-shape                   0\n",
       "cap-surface                 0\n",
       "cap-color                   0\n",
       "bruises                     0\n",
       "odor                        0\n",
       "gill-attachment             0\n",
       "gill-spacing                0\n",
       "gill-size                   0\n",
       "gill-color                  0\n",
       "stalk-shape                 0\n",
       "stalk-root                  0\n",
       "stalk-surface-above-ring    0\n",
       "stalk-surface-below-ring    0\n",
       "stalk-color-above-ring      0\n",
       "stalk-color-below-ring      0\n",
       "veil-type                   0\n",
       "veil-color                  0\n",
       "ring-number                 0\n",
       "ring-type                   0\n",
       "spore-print-color           0\n",
       "population                  0\n",
       "habitat                     0\n",
       "dtype: int64"
      ]
     },
     "execution_count": 51,
     "metadata": {},
     "output_type": "execute_result"
    }
   ],
   "source": [
    "# Controllo dei dati non validi (NaN) nel dataset di test\n",
    "test_data.isna().sum()"
   ]
  },
  {
   "cell_type": "markdown",
   "metadata": {},
   "source": [
    "## Statistiche sul dataset"
   ]
  },
  {
   "cell_type": "markdown",
   "metadata": {},
   "source": [
    "Vediamo ora un po' di statistiche dei valori contenuti nel dataset."
   ]
  },
  {
   "cell_type": "code",
   "execution_count": 52,
   "metadata": {},
   "outputs": [
    {
     "data": {
      "text/html": [
       "<div>\n",
       "<style scoped>\n",
       "    .dataframe tbody tr th:only-of-type {\n",
       "        vertical-align: middle;\n",
       "    }\n",
       "\n",
       "    .dataframe tbody tr th {\n",
       "        vertical-align: top;\n",
       "    }\n",
       "\n",
       "    .dataframe thead th {\n",
       "        text-align: right;\n",
       "    }\n",
       "</style>\n",
       "<table border=\"1\" class=\"dataframe\">\n",
       "  <thead>\n",
       "    <tr style=\"text-align: right;\">\n",
       "      <th></th>\n",
       "      <th>class_edible</th>\n",
       "      <th>cap-shape</th>\n",
       "      <th>cap-surface</th>\n",
       "      <th>cap-color</th>\n",
       "      <th>bruises</th>\n",
       "      <th>odor</th>\n",
       "      <th>gill-attachment</th>\n",
       "      <th>gill-spacing</th>\n",
       "      <th>gill-size</th>\n",
       "      <th>gill-color</th>\n",
       "      <th>...</th>\n",
       "      <th>stalk-surface-below-ring</th>\n",
       "      <th>stalk-color-above-ring</th>\n",
       "      <th>stalk-color-below-ring</th>\n",
       "      <th>veil-type</th>\n",
       "      <th>veil-color</th>\n",
       "      <th>ring-number</th>\n",
       "      <th>ring-type</th>\n",
       "      <th>spore-print-color</th>\n",
       "      <th>population</th>\n",
       "      <th>habitat</th>\n",
       "    </tr>\n",
       "  </thead>\n",
       "  <tbody>\n",
       "    <tr>\n",
       "      <th>count</th>\n",
       "      <td>3587</td>\n",
       "      <td>3587</td>\n",
       "      <td>3587</td>\n",
       "      <td>3587</td>\n",
       "      <td>3587</td>\n",
       "      <td>3587</td>\n",
       "      <td>3587</td>\n",
       "      <td>3587</td>\n",
       "      <td>3587</td>\n",
       "      <td>3587</td>\n",
       "      <td>...</td>\n",
       "      <td>3587</td>\n",
       "      <td>3587</td>\n",
       "      <td>3587</td>\n",
       "      <td>3587</td>\n",
       "      <td>3587</td>\n",
       "      <td>3587</td>\n",
       "      <td>3587</td>\n",
       "      <td>3587</td>\n",
       "      <td>3587</td>\n",
       "      <td>3587</td>\n",
       "    </tr>\n",
       "    <tr>\n",
       "      <th>unique</th>\n",
       "      <td>2</td>\n",
       "      <td>6</td>\n",
       "      <td>4</td>\n",
       "      <td>8</td>\n",
       "      <td>2</td>\n",
       "      <td>7</td>\n",
       "      <td>2</td>\n",
       "      <td>2</td>\n",
       "      <td>2</td>\n",
       "      <td>9</td>\n",
       "      <td>...</td>\n",
       "      <td>4</td>\n",
       "      <td>7</td>\n",
       "      <td>7</td>\n",
       "      <td>1</td>\n",
       "      <td>2</td>\n",
       "      <td>3</td>\n",
       "      <td>4</td>\n",
       "      <td>6</td>\n",
       "      <td>6</td>\n",
       "      <td>6</td>\n",
       "    </tr>\n",
       "    <tr>\n",
       "      <th>top</th>\n",
       "      <td>e</td>\n",
       "      <td>x</td>\n",
       "      <td>f</td>\n",
       "      <td>g</td>\n",
       "      <td>t</td>\n",
       "      <td>n</td>\n",
       "      <td>f</td>\n",
       "      <td>c</td>\n",
       "      <td>b</td>\n",
       "      <td>p</td>\n",
       "      <td>...</td>\n",
       "      <td>s</td>\n",
       "      <td>w</td>\n",
       "      <td>w</td>\n",
       "      <td>p</td>\n",
       "      <td>w</td>\n",
       "      <td>o</td>\n",
       "      <td>p</td>\n",
       "      <td>n</td>\n",
       "      <td>v</td>\n",
       "      <td>d</td>\n",
       "    </tr>\n",
       "    <tr>\n",
       "      <th>freq</th>\n",
       "      <td>2259</td>\n",
       "      <td>1782</td>\n",
       "      <td>1390</td>\n",
       "      <td>1078</td>\n",
       "      <td>2037</td>\n",
       "      <td>1805</td>\n",
       "      <td>3576</td>\n",
       "      <td>2919</td>\n",
       "      <td>3153</td>\n",
       "      <td>887</td>\n",
       "      <td>...</td>\n",
       "      <td>2251</td>\n",
       "      <td>1998</td>\n",
       "      <td>1958</td>\n",
       "      <td>3587</td>\n",
       "      <td>3582</td>\n",
       "      <td>3487</td>\n",
       "      <td>2217</td>\n",
       "      <td>1219</td>\n",
       "      <td>1369</td>\n",
       "      <td>1607</td>\n",
       "    </tr>\n",
       "  </tbody>\n",
       "</table>\n",
       "<p>4 rows × 23 columns</p>\n",
       "</div>"
      ],
      "text/plain": [
       "       class_edible cap-shape cap-surface cap-color bruises  odor  \\\n",
       "count          3587      3587        3587      3587    3587  3587   \n",
       "unique            2         6           4         8       2     7   \n",
       "top               e         x           f         g       t     n   \n",
       "freq           2259      1782        1390      1078    2037  1805   \n",
       "\n",
       "       gill-attachment gill-spacing gill-size gill-color  ...  \\\n",
       "count             3587         3587      3587       3587  ...   \n",
       "unique               2            2         2          9  ...   \n",
       "top                  f            c         b          p  ...   \n",
       "freq              3576         2919      3153        887  ...   \n",
       "\n",
       "       stalk-surface-below-ring stalk-color-above-ring stalk-color-below-ring  \\\n",
       "count                      3587                   3587                   3587   \n",
       "unique                        4                      7                      7   \n",
       "top                           s                      w                      w   \n",
       "freq                       2251                   1998                   1958   \n",
       "\n",
       "       veil-type veil-color ring-number ring-type spore-print-color  \\\n",
       "count       3587       3587        3587      3587              3587   \n",
       "unique         1          2           3         4                 6   \n",
       "top            p          w           o         p                 n   \n",
       "freq        3587       3582        3487      2217              1219   \n",
       "\n",
       "       population habitat  \n",
       "count        3587    3587  \n",
       "unique          6       6  \n",
       "top             v       d  \n",
       "freq         1369    1607  \n",
       "\n",
       "[4 rows x 23 columns]"
      ]
     },
     "execution_count": 52,
     "metadata": {},
     "output_type": "execute_result"
    }
   ],
   "source": [
    "# Statistiche del dataset\n",
    "train_data.describe()"
   ]
  },
  {
   "cell_type": "markdown",
   "metadata": {},
   "source": [
    "Analizziamo in che rapporto sono i funghi velenosi nel dataset di train.\n",
    "Si osserva che i funghi commestibili sono maggiori di quelli velenosi."
   ]
  },
  {
   "cell_type": "code",
   "execution_count": 53,
   "metadata": {},
   "outputs": [
    {
     "data": {
      "text/plain": [
       "e    2259\n",
       "p    1328\n",
       "Name: class_edible, dtype: int64"
      ]
     },
     "execution_count": 53,
     "metadata": {},
     "output_type": "execute_result"
    }
   ],
   "source": [
    "# Numero dei funghi velenosi (class_edible)\n",
    "# e: commestibili (edible)\n",
    "# p: velenosi (poison)\n",
    "train_data['class_edible'].value_counts()"
   ]
  },
  {
   "cell_type": "markdown",
   "metadata": {},
   "source": [
    "Raffiguriamo questi stessi dati su un grafico."
   ]
  },
  {
   "cell_type": "code",
   "execution_count": 54,
   "metadata": {},
   "outputs": [
    {
     "data": {
      "text/plain": [
       "<matplotlib.axes._subplots.AxesSubplot at 0x1ea32d67248>"
      ]
     },
     "execution_count": 54,
     "metadata": {},
     "output_type": "execute_result"
    },
    {
     "data": {
      "image/png": "[encoded data removed]",
      "text/plain": [
       "<Figure size 432x288 with 1 Axes>"
      ]
     },
     "metadata": {
      "needs_background": "light"
     },
     "output_type": "display_data"
    }
   ],
   "source": [
    "# Diagramma che confronta i funghi commestibili e quelli velenosi\n",
    "sns.countplot(train_data['class_edible'])"
   ]
  },
  {
   "cell_type": "markdown",
   "metadata": {},
   "source": [
    "Ora invece mettiamo in relazione le features del dataset con la quantità di funghi velenosi."
   ]
  },
  {
   "cell_type": "code",
   "execution_count": 55,
   "metadata": {},
   "outputs": [
    {
     "data": {
      "image/png": "[encoded data removed]",
      "text/plain": [
       "<Figure size 1152x3168 with 22 Axes>"
      ]
     },
     "metadata": {
      "needs_background": "light"
     },
     "output_type": "display_data"
    }
   ],
   "source": [
    "# Alcuni grafici che mettono in relazione le features\n",
    "# del dataset con la quantità di funghi velenosi\n",
    "\n",
    "cols = ['cap-shape', 'cap-surface', 'cap-color', 'bruises', 'odor',\n",
    "       'gill-attachment', 'gill-spacing', 'gill-size', 'gill-color',\n",
    "       'stalk-shape', 'stalk-root', 'stalk-surface-above-ring', 'stalk-surface-below-ring',\n",
    "        'stalk-color-above-ring', 'stalk-color-below-ring', 'veil-type', 'veil-color',\n",
    "        'ring-number', 'ring-type', 'spore-print-color', 'population', 'habitat']\n",
    "\n",
    "n_rows = 11\n",
    "n_cols = 2\n",
    "\n",
    "fig, axs = plt.subplots(n_rows, n_cols, figsize=(n_cols*8, n_rows*4))\n",
    "i=0\n",
    "for r in range(n_rows):\n",
    "    for c in range(n_cols):\n",
    "        ax = axs[r][c]\n",
    "        sns.countplot(train_data[cols[i]], hue=train_data['class_edible'], ax=ax)\n",
    "        ax.set_title(cols[i])\n",
    "        ax.legend(title='class_edible', loc='upper right')\n",
    "        i+=1\n",
    "    \n",
    "plt.tight_layout()"
   ]
  },
  {
   "cell_type": "markdown",
   "metadata": {},
   "source": [
    "## Divisione del dataset"
   ]
  },
  {
   "cell_type": "code",
   "execution_count": 56,
   "metadata": {},
   "outputs": [],
   "source": [
    "# Scegliamo la colonna su cui si desidera addestrare la rete, ovvero\n",
    "# la nostra 'label'\n",
    "label = 'class_edible'\n",
    "\n",
    "# Scegliamo le colonne su cui NON voglimo addestrare il modello\n",
    "not_features = ['veil-type']\n",
    "\n",
    "# Estrapoliamo le features come differenza delle due liste precedenti\n",
    "not_features_all = not_features + [label]\n",
    "features = [ele for ele in train_data.columns.to_list() if ele not in not_features_all] "
   ]
  },
  {
   "cell_type": "code",
   "execution_count": 57,
   "metadata": {},
   "outputs": [],
   "source": [
    "# Dividiamo il train-set e il test-set in due parti così da poter addestrare la rete:\n",
    "# y che contiene solo la colonna label 'No-show' che consiste nella soluzione al problema\n",
    "# X che contiene tutte le altre colonne specificate in 'features'.\n",
    "y_train = train_data.pop(label)\n",
    "X_train = train_data.drop(not_features, axis=1)\n",
    "\n",
    "y_val = val_data.pop(label)\n",
    "X_val = val_data.drop(not_features, axis=1)\n",
    "\n",
    "y_test = test_data.pop(label)\n",
    "X_test = test_data.drop(not_features, axis=1)"
   ]
  },
  {
   "cell_type": "markdown",
   "metadata": {},
   "source": [
    "## Modello"
   ]
  },
  {
   "cell_type": "markdown",
   "metadata": {},
   "source": [
    "La creazione del modello si divide in due fasi, una prima che si occuperà della fase di preprocessing dei dati del dataset e una seconda in cui verrà dichiarato il classificatore. Questi due verranno poi inseriti in una Pipeline."
   ]
  },
  {
   "cell_type": "markdown",
   "metadata": {},
   "source": [
    "### Preprocessing dei dati"
   ]
  },
  {
   "cell_type": "markdown",
   "metadata": {},
   "source": [
    "Per prima cosa eseguiamo l'encoder sulla colonna label y."
   ]
  },
  {
   "cell_type": "code",
   "execution_count": 58,
   "metadata": {},
   "outputs": [],
   "source": [
    "label_encoder = LabelEncoder()\n",
    "y_train = label_encoder.fit_transform(y_train)\n",
    "y_val = label_encoder.fit_transform(y_val)\n",
    "y_test = label_encoder.transform(y_test)"
   ]
  },
  {
   "cell_type": "markdown",
   "metadata": {},
   "source": [
    "Invece di usare una Pipeline si deciderà di codificare i dati attraverso LabelEncoder."
   ]
  },
  {
   "cell_type": "code",
   "execution_count": 59,
   "metadata": {},
   "outputs": [],
   "source": [
    "X_train = X_train.apply(LabelEncoder().fit_transform)\n",
    "X_val = X_val.apply(LabelEncoder().fit_transform)\n",
    "X_test = X_test.apply(LabelEncoder().fit_transform)"
   ]
  },
  {
   "cell_type": "markdown",
   "metadata": {},
   "source": [
    "### Creazione del modello"
   ]
  },
  {
   "cell_type": "markdown",
   "metadata": {},
   "source": [
    "Come modello si è deciso di utilizzare una Random Forest Classifier che sfrutta un algoritmo in cui sono addestrati tanti alberi classificatori per poi prendere quello con risultati migliori."
   ]
  },
  {
   "cell_type": "code",
   "execution_count": 61,
   "metadata": {},
   "outputs": [],
   "source": [
    "model = RandomForestClassifier()"
   ]
  },
  {
   "cell_type": "markdown",
   "metadata": {},
   "source": [
    "Adesso aggiungiamo il modello alla Pipeline."
   ]
  },
  {
   "cell_type": "code",
   "execution_count": 62,
   "metadata": {},
   "outputs": [
    {
     "name": "stdout",
     "output_type": "stream",
     "text": [
      "RandomForestClassifier()\n"
     ]
    }
   ],
   "source": [
    "print(model)"
   ]
  },
  {
   "cell_type": "markdown",
   "metadata": {},
   "source": [
    "## Addestramento"
   ]
  },
  {
   "cell_type": "markdown",
   "metadata": {},
   "source": [
    "Procediamo ora con l'addestramento del modello tramite il dataset di train."
   ]
  },
  {
   "cell_type": "code",
   "execution_count": 63,
   "metadata": {},
   "outputs": [],
   "source": [
    "# Addestramento del modello\n",
    "model = model.fit(X_train, y_train)"
   ]
  },
  {
   "cell_type": "code",
   "execution_count": 71,
   "metadata": {},
   "outputs": [
    {
     "name": "stdout",
     "output_type": "stream",
     "text": [
      "Training score: 100.0000%\n"
     ]
    }
   ],
   "source": [
    "# Calcolo dello score di addestramento del modello\n",
    "score = model.score(X_train, y_train)\n",
    "\n",
    "print(f\"Training score: {score:.4%}\")"
   ]
  },
  {
   "cell_type": "markdown",
   "metadata": {},
   "source": [
    "## Valutazione"
   ]
  },
  {
   "cell_type": "markdown",
   "metadata": {},
   "source": [
    "Eseguiamo ora una valutazione del modello di apprendimento."
   ]
  },
  {
   "cell_type": "code",
   "execution_count": 65,
   "metadata": {},
   "outputs": [],
   "source": [
    "prediction = model.predict(X_val)"
   ]
  },
  {
   "cell_type": "code",
   "execution_count": 70,
   "metadata": {},
   "outputs": [
    {
     "name": "stdout",
     "output_type": "stream",
     "text": [
      "Prediction Accuracy: 100.0000%\n"
     ]
    }
   ],
   "source": [
    "prediction_score = accuracy_score(y_pred=prediction, y_true=y_val)\n",
    "\n",
    "print(f\"Prediction Accuracy: {prediction_score:.4%}\")"
   ]
  },
  {
   "cell_type": "markdown",
   "metadata": {},
   "source": [
    "## Test"
   ]
  },
  {
   "cell_type": "code",
   "execution_count": 72,
   "metadata": {},
   "outputs": [],
   "source": [
    "prediction_test = model.predict(X_test)"
   ]
  },
  {
   "cell_type": "code",
   "execution_count": 73,
   "metadata": {},
   "outputs": [
    {
     "name": "stdout",
     "output_type": "stream",
     "text": [
      "Prediction Accuracy: 100.0000%\n"
     ]
    }
   ],
   "source": [
    "prediction_test_score = accuracy_score(y_pred=prediction_test, y_true=y_test)\n",
    "\n",
    "print(f\"Prediction Accuracy: {prediction_test_score:.4%}\")"
   ]
  },
  {
   "cell_type": "markdown",
   "metadata": {},
   "source": [
    "## Confusion Matrix"
   ]
  },
  {
   "cell_type": "code",
   "execution_count": 75,
   "metadata": {},
   "outputs": [],
   "source": [
    "# Creazione di una confusion matrix\n",
    "conf_matr = confusion_matrix(y_test, prediction_test, normalize=None)"
   ]
  },
  {
   "cell_type": "code",
   "execution_count": 76,
   "metadata": {},
   "outputs": [
    {
     "name": "stdout",
     "output_type": "stream",
     "text": [
      "[[698   0]\n",
      " [  0 452]]\n"
     ]
    }
   ],
   "source": [
    "# Stampa della confusion matrix\n",
    "print(conf_matr)"
   ]
  },
  {
   "cell_type": "code",
   "execution_count": 90,
   "metadata": {},
   "outputs": [
    {
     "name": "stdout",
     "output_type": "stream",
     "text": [
      "[[698   0]\n",
      " [  0 452]]\n"
     ]
    },
    {
     "data": {
      "image/png": "[encoded data removed]",
      "text/plain": [
       "<Figure size 432x288 with 2 Axes>"
      ]
     },
     "metadata": {
      "needs_background": "light"
     },
     "output_type": "display_data"
    }
   ],
   "source": [
    "disp = plot_confusion_matrix(model, X_test, y_test,\n",
    "                                 cmap=plt.cm.Blues)\n",
    "disp.ax_.set_title(\"Confusion Matrix \")\n",
    "\n",
    "\n",
    "\n",
    "print(disp.confusion_matrix)\n",
    "plt.show()"
   ]
  },
  {
   "cell_type": "markdown",
   "metadata": {},
   "source": [
    "Dalla confusion matrix è possibile osservare come il modello predica in modo corretto il 100% delle volte."
   ]
  }
 ],
 "metadata": {
  "kernelspec": {
   "display_name": "Python 3",
   "language": "python",
   "name": "python3"
  },
  "language_info": {
   "codemirror_mode": {
    "name": "ipython",
    "version": 3
   },
   "file_extension": ".py",
   "mimetype": "text/x-python",
   "name": "python",
   "nbconvert_exporter": "python",
   "pygments_lexer": "ipython3",
   "version": "3.7.4"
  }
 },
 "nbformat": 4,
 "nbformat_minor": 4
}
